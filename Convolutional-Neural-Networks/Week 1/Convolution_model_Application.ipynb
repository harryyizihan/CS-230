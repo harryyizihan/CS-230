{
 "cells": [
  {
   "cell_type": "markdown",
   "metadata": {},
   "source": [
    "# Convolutional Neural Networks: Application\n",
    "\n",
    "Welcome to Course 4's second assignment! In this notebook, you will:\n",
    "\n",
    "- Create a mood classifer using the TF Keras Sequential API\n",
    "- Build a ConvNet to identify sign language digits using the TF Keras Functional API\n",
    "\n",
    "**After this assignment you will be able to:**\n",
    "\n",
    "- Build and train a ConvNet in TensorFlow for a __binary__ classification problem\n",
    "- Build and train a ConvNet in TensorFlow for a __multiclass__ classification problem\n",
    "- Explain different use cases for the Sequential and Functional APIs\n",
    "\n",
    "To complete this assignment, you should already be familiar with TensorFlow. If you are not, please refer back to the **TensorFlow Tutorial** of the third week of Course 2 (\"**Improving deep neural networks**\").\n",
    "\n",
    "## Important Note on Submission to the AutoGrader\n",
    "\n",
    "Before submitting your assignment to the AutoGrader, please make sure you are not doing the following:\n",
    "\n",
    "1. You have not added any _extra_ `print` statement(s) in the assignment.\n",
    "2. You have not added any _extra_ code cell(s) in the assignment.\n",
    "3. You have not changed any of the function parameters.\n",
    "4. You are not using any global variables inside your graded exercises. Unless specifically instructed to do so, please refrain from it and use the local variables instead.\n",
    "5. You are not changing the assignment code where it is not required, like creating _extra_ variables.\n",
    "\n",
    "If you do any of the following, you will get something like, `Grader Error: Grader feedback not found` (or similarly unexpected) error upon submitting your assignment. Before asking for help/debugging the errors in your assignment, check for these first. If this is the case, and you don't remember the changes you have made, you can get a fresh copy of the assignment by following these [instructions](https://www.coursera.org/learn/convolutional-neural-networks/supplement/DS4yP/h-ow-to-refresh-your-workspace)."
   ]
  },
  {
   "cell_type": "markdown",
   "metadata": {},
   "source": [
    "## Table of Contents\n",
    "\n",
    "- [1 - Packages](#1)\n",
    "    - [1.1 - Load the Data and Split the Data into Train/Test Sets](#1-1)\n",
    "- [2 - Layers in TF Keras](#2)\n",
    "- [3 - The Sequential API](#3)\n",
    "    - [3.1 - Create the Sequential Model](#3-1)\n",
    "        - [Exercise 1 - happyModel](#ex-1)\n",
    "    - [3.2 - Train and Evaluate the Model](#3-2)\n",
    "- [4 - The Functional API](#4)\n",
    "    - [4.1 - Load the SIGNS Dataset](#4-1)\n",
    "    - [4.2 - Split the Data into Train/Test Sets](#4-2)\n",
    "    - [4.3 - Forward Propagation](#4-3)\n",
    "        - [Exercise 2 - convolutional_model](#ex-2)\n",
    "    - [4.4 - Train the Model](#4-4)\n",
    "- [5 - History Object](#5)\n",
    "- [6 - Bibliography](#6)"
   ]
  },
  {
   "cell_type": "markdown",
   "metadata": {},
   "source": [
    "<a name='1'></a>\n",
    "## 1 - Packages\n",
    "\n",
    "As usual, begin by loading in the packages."
   ]
  },
  {
   "cell_type": "code",
   "execution_count": 1,
   "metadata": {},
   "outputs": [],
   "source": [
    "import math\n",
    "import numpy as np\n",
    "import h5py\n",
    "import matplotlib.pyplot as plt\n",
    "from matplotlib.pyplot import imread\n",
    "import scipy\n",
    "from PIL import Image\n",
    "import pandas as pd\n",
    "import tensorflow as tf\n",
    "import tensorflow.keras.layers as tfl\n",
    "from tensorflow.python.framework import ops\n",
    "from cnn_utils import *\n",
    "from test_utils import summary, comparator\n",
    "\n",
    "%matplotlib inline\n",
    "np.random.seed(1)"
   ]
  },
  {
   "cell_type": "markdown",
   "metadata": {},
   "source": [
    "<a name='1-1'></a>\n",
    "### 1.1 - Load the Data and Split the Data into Train/Test Sets\n",
    "\n",
    "You'll be using the Happy House dataset for this part of the assignment, which contains images of peoples' faces. Your task will be to build a ConvNet that determines whether the people in the images are smiling or not -- because they only get to enter the house if they're smiling!  "
   ]
  },
  {
   "cell_type": "code",
   "execution_count": 2,
   "metadata": {},
   "outputs": [
    {
     "name": "stdout",
     "output_type": "stream",
     "text": [
      "number of training examples = 600\n",
      "number of test examples = 150\n",
      "X_train shape: (600, 64, 64, 3)\n",
      "Y_train shape: (600, 1)\n",
      "X_test shape: (150, 64, 64, 3)\n",
      "Y_test shape: (150, 1)\n"
     ]
    }
   ],
   "source": [
    "X_train_orig, Y_train_orig, X_test_orig, Y_test_orig, classes = load_happy_dataset()\n",
    "\n",
    "# Normalize image vectors\n",
    "X_train = X_train_orig/255.\n",
    "X_test = X_test_orig/255.\n",
    "\n",
    "# Reshape\n",
    "Y_train = Y_train_orig.T\n",
    "Y_test = Y_test_orig.T\n",
    "\n",
    "print (\"number of training examples = \" + str(X_train.shape[0]))\n",
    "print (\"number of test examples = \" + str(X_test.shape[0]))\n",
    "print (\"X_train shape: \" + str(X_train.shape))\n",
    "print (\"Y_train shape: \" + str(Y_train.shape))\n",
    "print (\"X_test shape: \" + str(X_test.shape))\n",
    "print (\"Y_test shape: \" + str(Y_test.shape))"
   ]
  },
  {
   "cell_type": "markdown",
   "metadata": {},
   "source": [
    "You can display the images contained in the dataset. Images are **64x64** pixels in RGB format (3 channels)."
   ]
  },
  {
   "cell_type": "code",
   "execution_count": 3,
   "metadata": {},
   "outputs": [
    {
     "data": {
      "image/png": "[encoded data removed]",
      "text/plain": [
       "<Figure size 432x288 with 1 Axes>"
      ]
     },
     "metadata": {
      "needs_background": "light"
     },
     "output_type": "display_data"
    }
   ],
   "source": [
    "index = 124\n",
    "plt.imshow(X_train_orig[index]) #display sample training image\n",
    "plt.show()"
   ]
  },
  {
   "cell_type": "markdown",
   "metadata": {},
   "source": [
    "<a name='2'></a>\n",
    "## 2 - Layers in TF Keras \n",
    "\n",
    "In the previous assignment, you created layers manually in numpy. In TF Keras, you don't have to write code directly to create layers. Rather, TF Keras has pre-defined layers you can use. \n",
    "\n",
    "When you create a layer in TF Keras, you are creating a function that takes some input and transforms it into an output you can reuse later. Nice and easy! "
   ]
  },
  {
   "cell_type": "markdown",
   "metadata": {},
   "source": [
    "<a name='3'></a>\n",
    "## 3 - The Sequential API\n",
    "\n",
    "In the previous assignment, you built helper functions using `numpy` to understand the mechanics behind convolutional neural networks. Most practical applications of deep learning today are built using programming frameworks, which have many built-in functions you can simply call. Keras is a high-level abstraction built on top of TensorFlow, which allows for even more simplified and optimized model creation and training. \n",
    "\n",
    "For the first part of this assignment, you'll create a model using TF Keras' Sequential API, which allows you to build layer by layer, and is ideal for building models where each layer has **exactly one** input tensor and **one** output tensor. \n",
    "\n",
    "As you'll see, using the Sequential API is simple and straightforward, but is only appropriate for simpler, more straightforward tasks. Later in this notebook you'll spend some time building with a more flexible, powerful alternative: the Functional API. \n",
    " "
   ]
  },
  {
   "cell_type": "markdown",
   "metadata": {},
   "source": [
    "<a name='3-1'></a>\n",
    "### 3.1 - Create the Sequential Model\n",
    "\n",
    "As mentioned earlier, the TensorFlow Keras Sequential API can be used to build simple models with layer operations that proceed in a sequential order. \n",
    "\n",
    "You can also add layers incrementally to a Sequential model with the `.add()` method, or remove them using the `.pop()` method, much like you would in a regular Python list.\n",
    "\n",
    "Actually, you can think of a Sequential model as behaving like a list of layers. Like Python lists, Sequential layers are ordered, and the order in which they are specified matters.  If your model is non-linear or contains layers with multiple inputs or outputs, a Sequential model wouldn't be the right choice!\n",
    "\n",
    "For any layer construction in Keras, you'll need to specify the input shape in advance. This is because in Keras, the shape of the weights is based on the shape of the inputs. The weights are only created when the model first sees some input data. Sequential models can be created by passing a list of layers to the Sequential constructor, like you will do in the next assignment.\n",
    "\n",
    "<a name='ex-1'></a>\n",
    "### Exercise 1 - happyModel\n",
    "\n",
    "Implement the `happyModel` function below to build the following model: `ZEROPAD2D -> CONV2D -> BATCHNORM -> RELU -> MAXPOOL -> FLATTEN -> DENSE`. Take help from [tf.keras.layers](https://www.tensorflow.org/api_docs/python/tf/keras/layers) \n",
    "\n",
    "Also, plug in the following parameters for all the steps:\n",
    "\n",
    " - [ZeroPadding2D](https://www.tensorflow.org/api_docs/python/tf/keras/layers/ZeroPadding2D): padding 3, input shape 64 x 64 x 3\n",
    " - [Conv2D](https://www.tensorflow.org/api_docs/python/tf/keras/layers/Conv2D): Use 32 7x7 filters, stride 1\n",
    " - [BatchNormalization](https://www.tensorflow.org/api_docs/python/tf/keras/layers/BatchNormalization): for axis 3\n",
    " - [ReLU](https://www.tensorflow.org/api_docs/python/tf/keras/layers/ReLU)\n",
    " - [MaxPool2D](https://www.tensorflow.org/api_docs/python/tf/keras/layers/MaxPool2D): Using default parameters\n",
    " - [Flatten](https://www.tensorflow.org/api_docs/python/tf/keras/layers/Flatten) the previous output.\n",
    " - Fully-connected ([Dense](https://www.tensorflow.org/api_docs/python/tf/keras/layers/Dense)) layer: Apply a fully connected layer with 1 neuron and a sigmoid activation. \n",
    " \n",
    " \n",
    " **Hint:**\n",
    " \n",
    " Use **tfl** as shorthand for **tensorflow.keras.layers**"
   ]
  },
  {
   "cell_type": "code",
   "execution_count": 4,
   "metadata": {
    "deletable": false,
    "nbgrader": {
     "cell_type": "code",
     "checksum": "95d28b191f257bdd5b70c7b8952559d5",
     "grade": false,
     "grade_id": "cell-0e56d3fc28b69aec",
     "locked": false,
     "schema_version": 3,
     "solution": true,
     "task": false
    }
   },
   "outputs": [],
   "source": [
    "# GRADED FUNCTION: happyModel\n",
    "\n",
    "def happyModel():\n",
    "    \"\"\"\n",
    "    Implements the forward propagation for the binary classification model:\n",
    "    ZEROPAD2D -> CONV2D -> BATCHNORM -> RELU -> MAXPOOL -> FLATTEN -> DENSE\n",
    "    \n",
    "    Note that for simplicity and grading purposes, you'll hard-code all the values\n",
    "    such as the stride and kernel (filter) sizes. \n",
    "    Normally, functions should take these values as function parameters.\n",
    "    \n",
    "    Arguments:\n",
    "    None\n",
    "\n",
    "    Returns:\n",
    "    model -- TF Keras model (object containing the information for the entire training process) \n",
    "    \"\"\"\n",
    "    model = tf.keras.Sequential([\n",
    "            ## ZeroPadding2D with padding 3, input shape of 64 x 64 x 3\n",
    "            tfl.ZeroPadding2D(padding=(3,3), input_shape=(64,64,3)),\n",
    "            ## Conv2D with 32 7x7 filters and stride of 1\n",
    "            tfl.Conv2D(32, (7,7)),\n",
    "            ## BatchNormalization for axis 3\n",
    "            tfl.BatchNormalization(axis=-1),\n",
    "            ## ReLU\n",
    "            tfl.ReLU(),\n",
    "            ## Max Pooling 2D with default parameters\n",
    "            tfl.MaxPool2D(),\n",
    "            ## Flatten layer\n",
    "            tfl.Flatten(),\n",
    "            ## Dense layer with 1 unit for output & 'sigmoid' activation\n",
    "            tfl.Dense(1, activation='sigmoid')\n",
    "            # YOUR CODE STARTS HERE\n",
    "            \n",
    "            \n",
    "            # YOUR CODE ENDS HERE\n",
    "        ])\n",
    "    \n",
    "    return model"
   ]
  },
  {
   "cell_type": "code",
   "execution_count": 5,
   "metadata": {
    "deletable": false,
    "editable": false,
    "nbgrader": {
     "cell_type": "code",
     "checksum": "8d3575c950e2e78149be2d05d671c80d",
     "grade": true,
     "grade_id": "cell-e3e1046e5c33d775",
     "locked": true,
     "points": 10,
     "schema_version": 3,
     "solution": false,
     "task": false
    }
   },
   "outputs": [
    {
     "name": "stdout",
     "output_type": "stream",
     "text": [
      "['ZeroPadding2D', (None, 70, 70, 3), 0, ((3, 3), (3, 3))]\n",
      "['Conv2D', (None, 64, 64, 32), 4736, 'valid', 'linear', 'GlorotUniform']\n",
      "['BatchNormalization', (None, 64, 64, 32), 128]\n",
      "['ReLU', (None, 64, 64, 32), 0]\n",
      "['MaxPooling2D', (None, 32, 32, 32), 0, (2, 2), (2, 2), 'valid']\n",
      "['Flatten', (None, 32768), 0]\n",
      "['Dense', (None, 1), 32769, 'sigmoid']\n",
      "\u001b[32mAll tests passed!\u001b[0m\n"
     ]
    }
   ],
   "source": [
    "happy_model = happyModel()\n",
    "# Print a summary for each layer\n",
    "for layer in summary(happy_model):\n",
    "    print(layer)\n",
    "    \n",
    "output = [['ZeroPadding2D', (None, 70, 70, 3), 0, ((3, 3), (3, 3))],\n",
    "            ['Conv2D', (None, 64, 64, 32), 4736, 'valid', 'linear', 'GlorotUniform'],\n",
    "            ['BatchNormalization', (None, 64, 64, 32), 128],\n",
    "            ['ReLU', (None, 64, 64, 32), 0],\n",
    "            ['MaxPooling2D', (None, 32, 32, 32), 0, (2, 2), (2, 2), 'valid'],\n",
    "            ['Flatten', (None, 32768), 0],\n",
    "            ['Dense', (None, 1), 32769, 'sigmoid']]\n",
    "    \n",
    "comparator(summary(happy_model), output)"
   ]
  },
  {
   "cell_type": "markdown",
   "metadata": {},
   "source": [
    "#### Expected Output:\n",
    "\n",
    "```\n",
    "['ZeroPadding2D', (None, 70, 70, 3), 0, ((3, 3), (3, 3))]\n",
    "['Conv2D', (None, 64, 64, 32), 4736, 'valid', 'linear', 'GlorotUniform']\n",
    "['BatchNormalization', (None, 64, 64, 32), 128]\n",
    "['ReLU', (None, 64, 64, 32), 0]\n",
    "['MaxPooling2D', (None, 32, 32, 32), 0, (2, 2), (2, 2), 'valid']\n",
    "['Flatten', (None, 32768), 0]\n",
    "['Dense', (None, 1), 32769, 'sigmoid']\n",
    "All tests passed!\n",
    "```"
   ]
  },
  {
   "cell_type": "markdown",
   "metadata": {},
   "source": [
    "Now that your model is created, you can compile it for training with an optimizer and loss of your choice. When the string `accuracy` is specified as a metric, the type of accuracy used will be automatically converted based on the loss function used. This is one of the many optimizations built into TensorFlow that make your life easier! If you'd like to read more on how the compiler operates, check the docs [here](https://www.tensorflow.org/api_docs/python/tf/keras/Model#compile)."
   ]
  },
  {
   "cell_type": "code",
   "execution_count": 6,
   "metadata": {},
   "outputs": [],
   "source": [
    "happy_model.compile(optimizer='adam',\n",
    "                   loss='binary_crossentropy',\n",
    "                   metrics=['accuracy'])"
   ]
  },
  {
   "cell_type": "markdown",
   "metadata": {},
   "source": [
    "It's time to check your model's parameters with the `.summary()` method. This will display the types of layers you have, the shape of the outputs, and how many parameters are in each layer. "
   ]
  },
  {
   "cell_type": "code",
   "execution_count": 7,
   "metadata": {},
   "outputs": [
    {
     "name": "stdout",
     "output_type": "stream",
     "text": [
      "Model: \"sequential\"\n",
      "_________________________________________________________________\n",
      "Layer (type)                 Output Shape              Param #   \n",
      "=================================================================\n",
      "zero_padding2d (ZeroPadding2 (None, 70, 70, 3)         0         \n",
      "_________________________________________________________________\n",
      "conv2d (Conv2D)              (None, 64, 64, 32)        4736      \n",
      "_________________________________________________________________\n",
      "batch_normalization (BatchNo (None, 64, 64, 32)        128       \n",
      "_________________________________________________________________\n",
      "re_lu (ReLU)                 (None, 64, 64, 32)        0         \n",
      "_________________________________________________________________\n",
      "max_pooling2d (MaxPooling2D) (None, 32, 32, 32)        0         \n",
      "_________________________________________________________________\n",
      "flatten (Flatten)            (None, 32768)             0         \n",
      "_________________________________________________________________\n",
      "dense (Dense)                (None, 1)                 32769     \n",
      "=================================================================\n",
      "Total params: 37,633\n",
      "Trainable params: 37,569\n",
      "Non-trainable params: 64\n",
      "_________________________________________________________________\n"
     ]
    }
   ],
   "source": [
    "happy_model.summary()"
   ]
  },
  {
   "cell_type": "markdown",
   "metadata": {},
   "source": [
    "<a name='3-2'></a>\n",
    "### 3.2 - Train and Evaluate the Model\n",
    "\n",
    "After creating the model, compiling it with your choice of optimizer and loss function, and doing a sanity check on its contents, you are now ready to build! \n",
    "\n",
    "Simply call `.fit()` to train. That's it! No need for mini-batching, saving, or complex backpropagation computations. That's all been done for you, as you're using a TensorFlow dataset with the batches specified already. You do have the option to specify epoch number or minibatch size if you like (for example, in the case of an un-batched dataset)."
   ]
  },
  {
   "cell_type": "code",
   "execution_count": 8,
   "metadata": {},
   "outputs": [
    {
     "name": "stdout",
     "output_type": "stream",
     "text": [
      "Epoch 1/10\n",
      "38/38 [==============================] - 4s 103ms/step - loss: 1.0906 - accuracy: 0.7167\n",
      "Epoch 2/10\n",
      "38/38 [==============================] - 4s 95ms/step - loss: 0.1798 - accuracy: 0.9217\n",
      "Epoch 3/10\n",
      "38/38 [==============================] - 4s 99ms/step - loss: 0.1330 - accuracy: 0.9433\n",
      "Epoch 4/10\n",
      "38/38 [==============================] - 4s 98ms/step - loss: 0.1031 - accuracy: 0.9550\n",
      "Epoch 5/10\n",
      "38/38 [==============================] - 4s 97ms/step - loss: 0.0797 - accuracy: 0.9667\n",
      "Epoch 6/10\n",
      "38/38 [==============================] - 4s 97ms/step - loss: 0.1595 - accuracy: 0.9400\n",
      "Epoch 7/10\n",
      "38/38 [==============================] - 4s 97ms/step - loss: 0.2145 - accuracy: 0.9117\n",
      "Epoch 8/10\n",
      "38/38 [==============================] - 4s 97ms/step - loss: 0.0884 - accuracy: 0.9550\n",
      "Epoch 9/10\n",
      "38/38 [==============================] - 4s 97ms/step - loss: 0.0754 - accuracy: 0.9817\n",
      "Epoch 10/10\n",
      "38/38 [==============================] - 4s 95ms/step - loss: 0.0759 - accuracy: 0.9750\n"
     ]
    },
    {
     "data": {
      "text/plain": [
       "<tensorflow.python.keras.callbacks.History at 0x7fcf5b7c8f50>"
      ]
     },
     "execution_count": 8,
     "metadata": {},
     "output_type": "execute_result"
    }
   ],
   "source": [
    "happy_model.fit(X_train, Y_train, epochs=10, batch_size=16)"
   ]
  },
  {
   "cell_type": "markdown",
   "metadata": {},
   "source": [
    "After that completes, just use `.evaluate()` to evaluate against your test set. This function will print the value of the loss function and the performance metrics specified during the compilation of the model. In this case, the `binary_crossentropy` and the `accuracy` respectively."
   ]
  },
  {
   "cell_type": "code",
   "execution_count": 9,
   "metadata": {},
   "outputs": [
    {
     "name": "stdout",
     "output_type": "stream",
     "text": [
      "5/5 [==============================] - 0s 25ms/step - loss: 0.2901 - accuracy: 0.8733\n"
     ]
    },
    {
     "data": {
      "text/plain": [
       "[0.29012128710746765, 0.8733333349227905]"
      ]
     },
     "execution_count": 9,
     "metadata": {},
     "output_type": "execute_result"
    }
   ],
   "source": [
    "happy_model.evaluate(X_test, Y_test)"
   ]
  },
  {
   "cell_type": "markdown",
   "metadata": {},
   "source": [
    "Easy, right? But what if you need to build a model with shared layers, branches, or multiple inputs and outputs? This is where Sequential, with its beautifully simple yet limited functionality, won't be able to help you. \n",
    "\n",
    "Next up: Enter the Functional API, your slightly more complex, highly flexible friend.  "
   ]
  },
  {
   "cell_type": "markdown",
   "metadata": {},
   "source": [
    "<a name='4'></a>\n",
    "## 4 - The Functional API"
   ]
  },
  {
   "cell_type": "markdown",
   "metadata": {},
   "source": [
    "Welcome to the second half of the assignment, where you'll use Keras' flexible [Functional API](https://www.tensorflow.org/guide/keras/functional) to build a ConvNet that can differentiate between 6 sign language digits. \n",
    "\n",
    "The Functional API can handle models with non-linear topology, shared layers, as well as layers with multiple inputs or outputs. Imagine that, where the Sequential API requires the model to move in a linear fashion through its layers, the Functional API allows much more flexibility. Where Sequential is a straight line, a Functional model is a graph, where the nodes of the layers can connect in many more ways than one. \n",
    "\n",
    "In the visual example below, the one possible direction of the movement Sequential model is shown in contrast to a skip connection, which is just one of the many ways a Functional model can be constructed. A skip connection, as you might have guessed, skips some layer in the network and feeds the output to a later layer in the network. Don't worry, you'll be spending more time with skip connections very soon! "
   ]
  },
  {
   "cell_type": "markdown",
   "metadata": {},
   "source": [
    "<img src=\"images/seq_vs_func.png\" style=\"width:350px;height:200px;\">"
   ]
  },
  {
   "cell_type": "markdown",
   "metadata": {},
   "source": [
    "<a name='4-1'></a>\n",
    "### 4.1 - Load the SIGNS Dataset\n",
    "\n",
    "As a reminder, the SIGNS dataset is a collection of 6 signs representing numbers from 0 to 5."
   ]
  },
  {
   "cell_type": "code",
   "execution_count": 10,
   "metadata": {},
   "outputs": [],
   "source": [
    "# Loading the data (signs)\n",
    "X_train_orig, Y_train_orig, X_test_orig, Y_test_orig, classes = load_signs_dataset()"
   ]
  },
  {
   "cell_type": "markdown",
   "metadata": {},
   "source": [
    "<img src=\"images/SIGNS.png\" style=\"width:800px;height:300px;\">\n",
    "\n",
    "The next cell will show you an example of a labelled image in the dataset. Feel free to change the value of `index` below and re-run to see different examples. "
   ]
  },
  {
   "cell_type": "code",
   "execution_count": 11,
   "metadata": {},
   "outputs": [
    {
     "name": "stdout",
     "output_type": "stream",
     "text": [
      "y = 4\n"
     ]
    },
    {
     "data": {
      "image/png": "[encoded data removed]",
      "text/plain": [
       "<Figure size 432x288 with 1 Axes>"
      ]
     },
     "metadata": {
      "needs_background": "light"
     },
     "output_type": "display_data"
    }
   ],
   "source": [
    "# Example of an image from the dataset\n",
    "index = 9\n",
    "plt.imshow(X_train_orig[index])\n",
    "print (\"y = \" + str(np.squeeze(Y_train_orig[:, index])))"
   ]
  },
  {
   "cell_type": "markdown",
   "metadata": {},
   "source": [
    "<a name='4-2'></a>\n",
    "### 4.2 - Split the Data into Train/Test Sets\n",
    "\n",
    "In Course 2, you built a fully-connected network for this dataset. But since this is an image dataset, it is more natural to apply a ConvNet to it.\n",
    "\n",
    "To get started, let's examine the shapes of your data. "
   ]
  },
  {
   "cell_type": "code",
   "execution_count": 12,
   "metadata": {},
   "outputs": [
    {
     "name": "stdout",
     "output_type": "stream",
     "text": [
      "number of training examples = 1080\n",
      "number of test examples = 120\n",
      "X_train shape: (1080, 64, 64, 3)\n",
      "Y_train shape: (1080, 6)\n",
      "X_test shape: (120, 64, 64, 3)\n",
      "Y_test shape: (120, 6)\n"
     ]
    }
   ],
   "source": [
    "X_train = X_train_orig/255.\n",
    "X_test = X_test_orig/255.\n",
    "Y_train = convert_to_one_hot(Y_train_orig, 6).T\n",
    "Y_test = convert_to_one_hot(Y_test_orig, 6).T\n",
    "print (\"number of training examples = \" + str(X_train.shape[0]))\n",
    "print (\"number of test examples = \" + str(X_test.shape[0]))\n",
    "print (\"X_train shape: \" + str(X_train.shape))\n",
    "print (\"Y_train shape: \" + str(Y_train.shape))\n",
    "print (\"X_test shape: \" + str(X_test.shape))\n",
    "print (\"Y_test shape: \" + str(Y_test.shape))"
   ]
  },
  {
   "cell_type": "markdown",
   "metadata": {},
   "source": [
    "<a name='4-3'></a>\n",
    "### 4.3 - Forward Propagation\n",
    "\n",
    "In TensorFlow, there are built-in functions that implement the convolution steps for you. By now, you should be familiar with how TensorFlow builds computational graphs. In the [Functional API](https://www.tensorflow.org/guide/keras/functional), you create a graph of layers. This is what allows such great flexibility.\n",
    "\n",
    "However, the following model could also be defined using the Sequential API since the information flow is on a single line. But don't deviate. What we want you to learn is to use the functional API.\n",
    "\n",
    "Begin building your graph of layers by creating an input node that functions as a callable object:\n",
    "\n",
    "- **input_img = tf.keras.Input(shape=input_shape):** \n",
    "\n",
    "Then, create a new node in the graph of layers by calling a layer on the `input_img` object: \n",
    "\n",
    "- **tf.keras.layers.Conv2D(filters= ... , kernel_size= ... , padding='same')(input_img):** Read the full documentation on [Conv2D](https://www.tensorflow.org/api_docs/python/tf/keras/layers/Conv2D).\n",
    "\n",
    "- **tf.keras.layers.MaxPool2D(pool_size=(f, f), strides=(s, s), padding='same'):** `MaxPool2D()` downsamples your input using a window of size (f, f) and strides of size (s, s) to carry out max pooling over each window.  For max pooling, you usually operate on a single example at a time and a single channel at a time. Read the full documentation on [MaxPool2D](https://www.tensorflow.org/api_docs/python/tf/keras/layers/MaxPool2D).\n",
    "\n",
    "- **tf.keras.layers.ReLU():** computes the elementwise ReLU of Z (which can be any shape). You can read the full documentation on [ReLU](https://www.tensorflow.org/api_docs/python/tf/keras/layers/ReLU).\n",
    "\n",
    "- **tf.keras.layers.Flatten()**: given a tensor \"P\", this function takes each training (or test) example in the batch and flattens it into a 1D vector.  \n",
    "\n",
    "    * If a tensor P has the shape (batch_size,h,w,c), it returns a flattened tensor with shape (batch_size, k), where $k=h \\times w \\times c$.  \"k\" equals the product of all the dimension sizes other than the first dimension.\n",
    "    \n",
    "    * For example, given a tensor with dimensions [100, 2, 3, 4], it flattens the tensor to be of shape [100, 24], where 24 = 2 * 3 * 4.  You can read the full documentation on [Flatten](https://www.tensorflow.org/api_docs/python/tf/keras/layers/Flatten).\n",
    "\n",
    "- **tf.keras.layers.Dense(units= ... , activation='softmax')(F):** given the flattened input F, it returns the output computed using a fully connected layer. You can read the full documentation on [Dense](https://www.tensorflow.org/api_docs/python/tf/keras/layers/Dense).\n",
    "\n",
    "In the last function above (`tf.keras.layers.Dense()`), the fully connected layer automatically initializes weights in the graph and keeps on training them as you train the model. Hence, you did not need to initialize those weights when initializing the parameters.\n",
    "\n",
    "Lastly, before creating the model, you'll need to define the output using the last of the function's compositions (in this example, a Dense layer): \n",
    "\n",
    "- **outputs = tf.keras.layers.Dense(units=6, activation='softmax')(F)**\n",
    "\n",
    "\n",
    "#### Window, kernel, filter, pool\n",
    "\n",
    "The words \"kernel\" and \"filter\" are used to refer to the same thing. The word \"filter\" accounts for the amount of \"kernels\" that will be used in a single convolution layer. \"Pool\" is the name of the operation that takes the max or average value of the kernels. \n",
    "\n",
    "This is why the parameter `pool_size` refers to `kernel_size`, and you use `(f,f)` to refer to the filter size. \n",
    "\n",
    "Pool size and kernel size refer to the same thing in different objects - They refer to the shape of the window where the operation takes place. "
   ]
  },
  {
   "cell_type": "markdown",
   "metadata": {},
   "source": [
    "<a name='ex-2'></a>\n",
    "### Exercise 2 - convolutional_model\n",
    "\n",
    "Implement the `convolutional_model` function below to build the following model: `CONV2D -> RELU -> MAXPOOL -> CONV2D -> RELU -> MAXPOOL -> FLATTEN -> DENSE`. Use the functions above! \n",
    "\n",
    "Also, plug in the following parameters for all the steps:\n",
    "\n",
    " - [Conv2D](https://www.tensorflow.org/api_docs/python/tf/keras/layers/Conv2D): Use 8 4 by 4 filters, stride 1, padding is \"SAME\"\n",
    " - [ReLU](https://www.tensorflow.org/api_docs/python/tf/keras/layers/ReLU)\n",
    " - [MaxPool2D](https://www.tensorflow.org/api_docs/python/tf/keras/layers/MaxPool2D): Use an 8 by 8 filter size and an 8 by 8 stride, padding is \"SAME\"\n",
    " - **Conv2D**: Use 16 2 by 2 filters, stride 1, padding is \"SAME\"\n",
    " - **ReLU**\n",
    " - **MaxPool2D**: Use a 4 by 4 filter size and a 4 by 4 stride, padding is \"SAME\"\n",
    " - [Flatten](https://www.tensorflow.org/api_docs/python/tf/keras/layers/Flatten) the previous output.\n",
    " - Fully-connected ([Dense](https://www.tensorflow.org/api_docs/python/tf/keras/layers/Dense)) layer: Apply a fully connected layer with 6 neurons and a softmax activation. "
   ]
  },
  {
   "cell_type": "code",
   "execution_count": 19,
   "metadata": {
    "deletable": false,
    "nbgrader": {
     "cell_type": "code",
     "checksum": "f58643806aa8380c96225fc8b4c5e7aa",
     "grade": false,
     "grade_id": "cell-dac51744a9e03f51",
     "locked": false,
     "schema_version": 3,
     "solution": true,
     "task": false
    }
   },
   "outputs": [],
   "source": [
    "# GRADED FUNCTION: convolutional_model\n",
    "\n",
    "def convolutional_model(input_shape):\n",
    "    \"\"\"\n",
    "    Implements the forward propagation for the model:\n",
    "    CONV2D -> RELU -> MAXPOOL -> CONV2D -> RELU -> MAXPOOL -> FLATTEN -> DENSE\n",
    "    \n",
    "    Note that for simplicity and grading purposes, you'll hard-code some values\n",
    "    such as the stride and kernel (filter) sizes. \n",
    "    Normally, functions should take these values as function parameters.\n",
    "    \n",
    "    Arguments:\n",
    "    input_img -- input dataset, of shape (input_shape)\n",
    "\n",
    "    Returns:\n",
    "    model -- TF Keras model (object containing the information for the entire training process) \n",
    "    \"\"\"\n",
    "\n",
    "    input_img = tf.keras.Input(shape=input_shape)\n",
    "#     ## CONV2D: 8 filters 4x4, stride of 1, padding 'SAME'\n",
    "#     Z1 = None\n",
    "#     ## RELU\n",
    "#     A1 = None\n",
    "#     ## MAXPOOL: window 8x8, stride 8, padding 'SAME'\n",
    "#     P1 = None\n",
    "#     ## CONV2D: 16 filters 2x2, stride 1, padding 'SAME'\n",
    "#     Z2 = None\n",
    "#     ## RELU\n",
    "#     A2 = None\n",
    "#     ## MAXPOOL: window 4x4, stride 4, padding 'SAME'\n",
    "#     P2 = None\n",
    "#     ## FLATTEN\n",
    "#     F = None\n",
    "#     ## Dense layer\n",
    "#     ## 6 neurons in output layer. Hint: one of the arguments should be \"activation='softmax'\" \n",
    "#     outputs = None\n",
    "#     # YOUR CODE STARTS HERE\n",
    "    Z1 = tfl.Conv2D(8,4,activation='linear', padding='same',strides=1)(input_img)\n",
    "    A1 = tfl.ReLU()(Z1)\n",
    "    P1 = tfl.MaxPool2D(pool_size=(8,8), strides=(8,8), padding='same')(A1)\n",
    "    Z2 = tfl.Conv2D(16, 2, activation='linear', padding=\"same\", strides=1)(P1)\n",
    "    A2 = tfl.ReLU()(Z2)\n",
    "    P2 = tfl.MaxPool2D(pool_size=(4,4),strides=(4,4), padding='same')(A2)\n",
    "    F = tfl.Flatten()(P2)\n",
    "    outputs = tfl.Dense(6, activation='softmax')(F)\n",
    "    \n",
    "    # YOUR CODE ENDS HERE\n",
    "    model = tf.keras.Model(inputs=input_img, outputs=outputs)\n",
    "    return model"
   ]
  },
  {
   "cell_type": "code",
   "execution_count": 20,
   "metadata": {
    "deletable": false,
    "editable": false,
    "nbgrader": {
     "cell_type": "code",
     "checksum": "483d626949930a0b0ef20997e7c6ba72",
     "grade": true,
     "grade_id": "cell-45d22e92042174c9",
     "locked": true,
     "points": 10,
     "schema_version": 3,
     "solution": false,
     "task": false
    }
   },
   "outputs": [
    {
     "name": "stdout",
     "output_type": "stream",
     "text": [
      "Model: \"functional_1\"\n",
      "_________________________________________________________________\n",
      "Layer (type)                 Output Shape              Param #   \n",
      "=================================================================\n",
      "input_4 (InputLayer)         [(None, 64, 64, 3)]       0         \n",
      "_________________________________________________________________\n",
      "conv2d_3 (Conv2D)            (None, 64, 64, 8)         392       \n",
      "_________________________________________________________________\n",
      "re_lu_4 (ReLU)               (None, 64, 64, 8)         0         \n",
      "_________________________________________________________________\n",
      "max_pooling2d_2 (MaxPooling2 (None, 8, 8, 8)           0         \n",
      "_________________________________________________________________\n",
      "conv2d_4 (Conv2D)            (None, 8, 8, 16)          528       \n",
      "_________________________________________________________________\n",
      "re_lu_5 (ReLU)               (None, 8, 8, 16)          0         \n",
      "_________________________________________________________________\n",
      "max_pooling2d_3 (MaxPooling2 (None, 2, 2, 16)          0         \n",
      "_________________________________________________________________\n",
      "flatten_1 (Flatten)          (None, 64)                0         \n",
      "_________________________________________________________________\n",
      "dense_1 (Dense)              (None, 6)                 390       \n",
      "=================================================================\n",
      "Total params: 1,310\n",
      "Trainable params: 1,310\n",
      "Non-trainable params: 0\n",
      "_________________________________________________________________\n",
      "\u001b[32mAll tests passed!\u001b[0m\n"
     ]
    }
   ],
   "source": [
    "conv_model = convolutional_model((64, 64, 3))\n",
    "conv_model.compile(optimizer='adam',\n",
    "                  loss='categorical_crossentropy',\n",
    "                  metrics=['accuracy'])\n",
    "conv_model.summary()\n",
    "    \n",
    "output = [['InputLayer', [(None, 64, 64, 3)], 0],\n",
    "        ['Conv2D', (None, 64, 64, 8), 392, 'same', 'linear', 'GlorotUniform'],\n",
    "        ['ReLU', (None, 64, 64, 8), 0],\n",
    "        ['MaxPooling2D', (None, 8, 8, 8), 0, (8, 8), (8, 8), 'same'],\n",
    "        ['Conv2D', (None, 8, 8, 16), 528, 'same', 'linear', 'GlorotUniform'],\n",
    "        ['ReLU', (None, 8, 8, 16), 0],\n",
    "        ['MaxPooling2D', (None, 2, 2, 16), 0, (4, 4), (4, 4), 'same'],\n",
    "        ['Flatten', (None, 64), 0],\n",
    "        ['Dense', (None, 6), 390, 'softmax']]\n",
    "    \n",
    "comparator(summary(conv_model), output)"
   ]
  },
  {
   "cell_type": "markdown",
   "metadata": {},
   "source": [
    "Both the Sequential and Functional APIs return a TF Keras model object. The only difference is how inputs are handled inside the object model! "
   ]
  },
  {
   "cell_type": "markdown",
   "metadata": {},
   "source": [
    "<a name='4-4'></a>\n",
    "### 4.4 - Train the Model"
   ]
  },
  {
   "cell_type": "code",
   "execution_count": 21,
   "metadata": {},
   "outputs": [
    {
     "name": "stdout",
     "output_type": "stream",
     "text": [
      "Epoch 1/100\n",
      "17/17 [==============================] - 2s 113ms/step - loss: 1.7916 - accuracy: 0.1787 - val_loss: 1.7824 - val_accuracy: 0.2000\n",
      "Epoch 2/100\n",
      "17/17 [==============================] - 2s 113ms/step - loss: 1.7805 - accuracy: 0.2407 - val_loss: 1.7761 - val_accuracy: 0.2833\n",
      "Epoch 3/100\n",
      "17/17 [==============================] - 2s 111ms/step - loss: 1.7735 - accuracy: 0.2454 - val_loss: 1.7687 - val_accuracy: 0.3083\n",
      "Epoch 4/100\n",
      "17/17 [==============================] - 2s 111ms/step - loss: 1.7658 - accuracy: 0.2750 - val_loss: 1.7602 - val_accuracy: 0.3833\n",
      "Epoch 5/100\n",
      "17/17 [==============================] - 2s 112ms/step - loss: 1.7567 - accuracy: 0.3287 - val_loss: 1.7504 - val_accuracy: 0.3750\n",
      "Epoch 6/100\n",
      "17/17 [==============================] - 2s 112ms/step - loss: 1.7456 - accuracy: 0.3481 - val_loss: 1.7379 - val_accuracy: 0.4167\n",
      "Epoch 7/100\n",
      "17/17 [==============================] - 2s 107ms/step - loss: 1.7319 - accuracy: 0.3648 - val_loss: 1.7213 - val_accuracy: 0.4250\n",
      "Epoch 8/100\n",
      "17/17 [==============================] - 2s 112ms/step - loss: 1.7136 - accuracy: 0.3889 - val_loss: 1.7008 - val_accuracy: 0.4500\n",
      "Epoch 9/100\n",
      "17/17 [==============================] - 2s 106ms/step - loss: 1.6925 - accuracy: 0.4009 - val_loss: 1.6768 - val_accuracy: 0.4833\n",
      "Epoch 10/100\n",
      "17/17 [==============================] - 2s 112ms/step - loss: 1.6661 - accuracy: 0.4231 - val_loss: 1.6463 - val_accuracy: 0.4917\n",
      "Epoch 11/100\n",
      "17/17 [==============================] - 2s 112ms/step - loss: 1.6351 - accuracy: 0.4500 - val_loss: 1.6105 - val_accuracy: 0.5333\n",
      "Epoch 12/100\n",
      "17/17 [==============================] - 2s 112ms/step - loss: 1.5989 - accuracy: 0.4648 - val_loss: 1.5692 - val_accuracy: 0.5333\n",
      "Epoch 13/100\n",
      "17/17 [==============================] - 2s 112ms/step - loss: 1.5567 - accuracy: 0.4889 - val_loss: 1.5197 - val_accuracy: 0.5417\n",
      "Epoch 14/100\n",
      "17/17 [==============================] - 2s 112ms/step - loss: 1.5079 - accuracy: 0.5102 - val_loss: 1.4645 - val_accuracy: 0.5750\n",
      "Epoch 15/100\n",
      "17/17 [==============================] - 2s 106ms/step - loss: 1.4577 - accuracy: 0.5185 - val_loss: 1.4104 - val_accuracy: 0.5750\n",
      "Epoch 16/100\n",
      "17/17 [==============================] - 2s 111ms/step - loss: 1.4065 - accuracy: 0.5352 - val_loss: 1.3583 - val_accuracy: 0.5917\n",
      "Epoch 17/100\n",
      "17/17 [==============================] - 2s 111ms/step - loss: 1.3569 - accuracy: 0.5444 - val_loss: 1.3074 - val_accuracy: 0.6000\n",
      "Epoch 18/100\n",
      "17/17 [==============================] - 2s 111ms/step - loss: 1.3088 - accuracy: 0.5583 - val_loss: 1.2595 - val_accuracy: 0.6167\n",
      "Epoch 19/100\n",
      "17/17 [==============================] - 2s 106ms/step - loss: 1.2628 - accuracy: 0.5769 - val_loss: 1.2151 - val_accuracy: 0.5833\n",
      "Epoch 20/100\n",
      "17/17 [==============================] - 2s 106ms/step - loss: 1.2209 - accuracy: 0.5870 - val_loss: 1.1746 - val_accuracy: 0.5833\n",
      "Epoch 21/100\n",
      "17/17 [==============================] - 2s 106ms/step - loss: 1.1816 - accuracy: 0.5954 - val_loss: 1.1391 - val_accuracy: 0.6000\n",
      "Epoch 22/100\n",
      "17/17 [==============================] - 2s 112ms/step - loss: 1.1445 - accuracy: 0.6046 - val_loss: 1.1053 - val_accuracy: 0.6417\n",
      "Epoch 23/100\n",
      "17/17 [==============================] - 2s 113ms/step - loss: 1.1102 - accuracy: 0.6176 - val_loss: 1.0756 - val_accuracy: 0.6417\n",
      "Epoch 24/100\n",
      "17/17 [==============================] - 2s 106ms/step - loss: 1.0788 - accuracy: 0.6269 - val_loss: 1.0483 - val_accuracy: 0.6583\n",
      "Epoch 25/100\n",
      "17/17 [==============================] - 2s 111ms/step - loss: 1.0506 - accuracy: 0.6361 - val_loss: 1.0218 - val_accuracy: 0.6750\n",
      "Epoch 26/100\n",
      "17/17 [==============================] - 2s 117ms/step - loss: 1.0223 - accuracy: 0.6407 - val_loss: 1.0020 - val_accuracy: 0.6833\n",
      "Epoch 27/100\n",
      "17/17 [==============================] - 2s 112ms/step - loss: 0.9974 - accuracy: 0.6491 - val_loss: 0.9799 - val_accuracy: 0.6917\n",
      "Epoch 28/100\n",
      "17/17 [==============================] - 2s 107ms/step - loss: 0.9747 - accuracy: 0.6574 - val_loss: 0.9619 - val_accuracy: 0.6750\n",
      "Epoch 29/100\n",
      "17/17 [==============================] - 2s 112ms/step - loss: 0.9536 - accuracy: 0.6602 - val_loss: 0.9424 - val_accuracy: 0.6917\n",
      "Epoch 30/100\n",
      "17/17 [==============================] - 2s 112ms/step - loss: 0.9346 - accuracy: 0.6704 - val_loss: 0.9249 - val_accuracy: 0.6583\n",
      "Epoch 31/100\n",
      "17/17 [==============================] - 2s 112ms/step - loss: 0.9152 - accuracy: 0.6796 - val_loss: 0.9092 - val_accuracy: 0.6833\n",
      "Epoch 32/100\n",
      "17/17 [==============================] - 2s 112ms/step - loss: 0.8982 - accuracy: 0.6954 - val_loss: 0.8946 - val_accuracy: 0.6917\n",
      "Epoch 33/100\n",
      "17/17 [==============================] - 2s 112ms/step - loss: 0.8813 - accuracy: 0.6972 - val_loss: 0.8789 - val_accuracy: 0.6917\n",
      "Epoch 34/100\n",
      "17/17 [==============================] - 2s 112ms/step - loss: 0.8654 - accuracy: 0.7046 - val_loss: 0.8640 - val_accuracy: 0.7000\n",
      "Epoch 35/100\n",
      "17/17 [==============================] - 2s 112ms/step - loss: 0.8492 - accuracy: 0.7139 - val_loss: 0.8526 - val_accuracy: 0.6917\n",
      "Epoch 36/100\n",
      "17/17 [==============================] - 2s 112ms/step - loss: 0.8355 - accuracy: 0.7213 - val_loss: 0.8380 - val_accuracy: 0.6917\n",
      "Epoch 37/100\n",
      "17/17 [==============================] - 2s 112ms/step - loss: 0.8211 - accuracy: 0.7287 - val_loss: 0.8273 - val_accuracy: 0.7000\n",
      "Epoch 38/100\n",
      "17/17 [==============================] - 2s 112ms/step - loss: 0.8079 - accuracy: 0.7333 - val_loss: 0.8145 - val_accuracy: 0.7083\n",
      "Epoch 39/100\n",
      "17/17 [==============================] - 2s 106ms/step - loss: 0.7950 - accuracy: 0.7417 - val_loss: 0.8048 - val_accuracy: 0.7167\n",
      "Epoch 40/100\n",
      "17/17 [==============================] - 2s 112ms/step - loss: 0.7821 - accuracy: 0.7481 - val_loss: 0.7926 - val_accuracy: 0.7167\n",
      "Epoch 41/100\n",
      "17/17 [==============================] - 2s 112ms/step - loss: 0.7700 - accuracy: 0.7463 - val_loss: 0.7809 - val_accuracy: 0.7167\n",
      "Epoch 42/100\n",
      "17/17 [==============================] - 2s 112ms/step - loss: 0.7579 - accuracy: 0.7537 - val_loss: 0.7733 - val_accuracy: 0.7167\n",
      "Epoch 43/100\n",
      "17/17 [==============================] - 2s 112ms/step - loss: 0.7476 - accuracy: 0.7583 - val_loss: 0.7632 - val_accuracy: 0.7167\n",
      "Epoch 44/100\n",
      "17/17 [==============================] - 2s 107ms/step - loss: 0.7362 - accuracy: 0.7602 - val_loss: 0.7535 - val_accuracy: 0.7250\n",
      "Epoch 45/100\n",
      "17/17 [==============================] - 2s 112ms/step - loss: 0.7252 - accuracy: 0.7667 - val_loss: 0.7468 - val_accuracy: 0.7167\n",
      "Epoch 46/100\n",
      "17/17 [==============================] - 2s 112ms/step - loss: 0.7157 - accuracy: 0.7694 - val_loss: 0.7369 - val_accuracy: 0.7167\n",
      "Epoch 47/100\n",
      "17/17 [==============================] - 2s 106ms/step - loss: 0.7052 - accuracy: 0.7750 - val_loss: 0.7293 - val_accuracy: 0.7167\n",
      "Epoch 48/100\n",
      "17/17 [==============================] - 2s 107ms/step - loss: 0.6953 - accuracy: 0.7815 - val_loss: 0.7219 - val_accuracy: 0.7250\n",
      "Epoch 49/100\n",
      "17/17 [==============================] - 2s 111ms/step - loss: 0.6861 - accuracy: 0.7861 - val_loss: 0.7135 - val_accuracy: 0.7250\n",
      "Epoch 50/100\n",
      "17/17 [==============================] - 2s 107ms/step - loss: 0.6764 - accuracy: 0.7907 - val_loss: 0.7079 - val_accuracy: 0.7417\n",
      "Epoch 51/100\n",
      "17/17 [==============================] - 2s 112ms/step - loss: 0.6677 - accuracy: 0.7954 - val_loss: 0.7002 - val_accuracy: 0.7500\n",
      "Epoch 52/100\n",
      "17/17 [==============================] - 2s 111ms/step - loss: 0.6590 - accuracy: 0.7981 - val_loss: 0.6927 - val_accuracy: 0.7500\n",
      "Epoch 53/100\n",
      "17/17 [==============================] - 2s 111ms/step - loss: 0.6503 - accuracy: 0.8019 - val_loss: 0.6868 - val_accuracy: 0.7417\n",
      "Epoch 54/100\n",
      "17/17 [==============================] - 2s 111ms/step - loss: 0.6420 - accuracy: 0.8046 - val_loss: 0.6787 - val_accuracy: 0.7417\n",
      "Epoch 55/100\n",
      "17/17 [==============================] - 2s 111ms/step - loss: 0.6336 - accuracy: 0.8056 - val_loss: 0.6726 - val_accuracy: 0.7500\n",
      "Epoch 56/100\n",
      "17/17 [==============================] - 2s 112ms/step - loss: 0.6256 - accuracy: 0.8065 - val_loss: 0.6663 - val_accuracy: 0.7583\n",
      "Epoch 57/100\n",
      "17/17 [==============================] - 2s 107ms/step - loss: 0.6178 - accuracy: 0.8148 - val_loss: 0.6585 - val_accuracy: 0.7500\n",
      "Epoch 58/100\n",
      "17/17 [==============================] - 2s 112ms/step - loss: 0.6096 - accuracy: 0.8157 - val_loss: 0.6526 - val_accuracy: 0.7500\n",
      "Epoch 59/100\n",
      "17/17 [==============================] - 2s 112ms/step - loss: 0.6019 - accuracy: 0.8157 - val_loss: 0.6456 - val_accuracy: 0.7500\n",
      "Epoch 60/100\n",
      "17/17 [==============================] - 2s 112ms/step - loss: 0.5943 - accuracy: 0.8157 - val_loss: 0.6404 - val_accuracy: 0.7500\n",
      "Epoch 61/100\n",
      "17/17 [==============================] - 2s 112ms/step - loss: 0.5870 - accuracy: 0.8204 - val_loss: 0.6340 - val_accuracy: 0.7583\n",
      "Epoch 62/100\n",
      "17/17 [==============================] - 2s 111ms/step - loss: 0.5799 - accuracy: 0.8194 - val_loss: 0.6262 - val_accuracy: 0.7583\n",
      "Epoch 63/100\n",
      "17/17 [==============================] - 2s 107ms/step - loss: 0.5726 - accuracy: 0.8241 - val_loss: 0.6216 - val_accuracy: 0.7583\n",
      "Epoch 64/100\n",
      "17/17 [==============================] - 2s 112ms/step - loss: 0.5660 - accuracy: 0.8241 - val_loss: 0.6159 - val_accuracy: 0.7583\n",
      "Epoch 65/100\n",
      "17/17 [==============================] - 2s 112ms/step - loss: 0.5590 - accuracy: 0.8269 - val_loss: 0.6105 - val_accuracy: 0.7667\n",
      "Epoch 66/100\n",
      "17/17 [==============================] - 2s 106ms/step - loss: 0.5529 - accuracy: 0.8315 - val_loss: 0.6051 - val_accuracy: 0.7667\n",
      "Epoch 67/100\n",
      "17/17 [==============================] - 2s 106ms/step - loss: 0.5463 - accuracy: 0.8343 - val_loss: 0.5997 - val_accuracy: 0.7667\n",
      "Epoch 68/100\n",
      "17/17 [==============================] - 2s 112ms/step - loss: 0.5397 - accuracy: 0.8343 - val_loss: 0.5958 - val_accuracy: 0.7667\n",
      "Epoch 69/100\n",
      "17/17 [==============================] - 2s 111ms/step - loss: 0.5338 - accuracy: 0.8426 - val_loss: 0.5907 - val_accuracy: 0.7583\n",
      "Epoch 70/100\n",
      "17/17 [==============================] - 2s 112ms/step - loss: 0.5272 - accuracy: 0.8463 - val_loss: 0.5868 - val_accuracy: 0.7750\n",
      "Epoch 71/100\n",
      "17/17 [==============================] - 2s 112ms/step - loss: 0.5219 - accuracy: 0.8454 - val_loss: 0.5847 - val_accuracy: 0.7750\n",
      "Epoch 72/100\n",
      "17/17 [==============================] - 2s 112ms/step - loss: 0.5156 - accuracy: 0.8463 - val_loss: 0.5780 - val_accuracy: 0.7917\n",
      "Epoch 73/100\n",
      "17/17 [==============================] - 2s 106ms/step - loss: 0.5094 - accuracy: 0.8546 - val_loss: 0.5765 - val_accuracy: 0.7750\n",
      "Epoch 74/100\n",
      "17/17 [==============================] - 2s 107ms/step - loss: 0.5030 - accuracy: 0.8593 - val_loss: 0.5722 - val_accuracy: 0.7917\n",
      "Epoch 75/100\n",
      "17/17 [==============================] - 2s 112ms/step - loss: 0.4991 - accuracy: 0.8481 - val_loss: 0.5723 - val_accuracy: 0.7750\n",
      "Epoch 76/100\n",
      "17/17 [==============================] - 2s 106ms/step - loss: 0.4924 - accuracy: 0.8565 - val_loss: 0.5657 - val_accuracy: 0.7917\n",
      "Epoch 77/100\n",
      "17/17 [==============================] - 2s 106ms/step - loss: 0.4867 - accuracy: 0.8639 - val_loss: 0.5644 - val_accuracy: 0.7917\n",
      "Epoch 78/100\n",
      "17/17 [==============================] - 2s 113ms/step - loss: 0.4826 - accuracy: 0.8556 - val_loss: 0.5652 - val_accuracy: 0.7833\n",
      "Epoch 79/100\n",
      "17/17 [==============================] - 2s 112ms/step - loss: 0.4758 - accuracy: 0.8620 - val_loss: 0.5594 - val_accuracy: 0.7917\n",
      "Epoch 80/100\n",
      "17/17 [==============================] - 2s 107ms/step - loss: 0.4704 - accuracy: 0.8611 - val_loss: 0.5549 - val_accuracy: 0.8000\n",
      "Epoch 81/100\n",
      "17/17 [==============================] - 2s 107ms/step - loss: 0.4652 - accuracy: 0.8648 - val_loss: 0.5557 - val_accuracy: 0.7833\n",
      "Epoch 82/100\n",
      "17/17 [==============================] - 2s 111ms/step - loss: 0.4594 - accuracy: 0.8648 - val_loss: 0.5529 - val_accuracy: 0.7917\n",
      "Epoch 83/100\n",
      "17/17 [==============================] - 2s 112ms/step - loss: 0.4545 - accuracy: 0.8648 - val_loss: 0.5516 - val_accuracy: 0.7917\n",
      "Epoch 84/100\n",
      "17/17 [==============================] - 2s 106ms/step - loss: 0.4497 - accuracy: 0.8657 - val_loss: 0.5462 - val_accuracy: 0.8000\n",
      "Epoch 85/100\n",
      "17/17 [==============================] - 2s 111ms/step - loss: 0.4465 - accuracy: 0.8630 - val_loss: 0.5501 - val_accuracy: 0.7917\n",
      "Epoch 86/100\n",
      "17/17 [==============================] - 2s 106ms/step - loss: 0.4394 - accuracy: 0.8685 - val_loss: 0.5433 - val_accuracy: 0.7917\n",
      "Epoch 87/100\n",
      "17/17 [==============================] - 2s 106ms/step - loss: 0.4362 - accuracy: 0.8667 - val_loss: 0.5420 - val_accuracy: 0.7833\n",
      "Epoch 88/100\n",
      "17/17 [==============================] - 2s 107ms/step - loss: 0.4314 - accuracy: 0.8713 - val_loss: 0.5427 - val_accuracy: 0.7833\n",
      "Epoch 89/100\n",
      "17/17 [==============================] - 2s 112ms/step - loss: 0.4266 - accuracy: 0.8741 - val_loss: 0.5374 - val_accuracy: 0.7833\n",
      "Epoch 90/100\n",
      "17/17 [==============================] - 2s 112ms/step - loss: 0.4227 - accuracy: 0.8741 - val_loss: 0.5378 - val_accuracy: 0.7833\n",
      "Epoch 91/100\n",
      "17/17 [==============================] - 2s 112ms/step - loss: 0.4190 - accuracy: 0.8778 - val_loss: 0.5354 - val_accuracy: 0.7833\n",
      "Epoch 92/100\n",
      "17/17 [==============================] - 2s 111ms/step - loss: 0.4150 - accuracy: 0.8806 - val_loss: 0.5338 - val_accuracy: 0.7917\n",
      "Epoch 93/100\n",
      "17/17 [==============================] - 2s 111ms/step - loss: 0.4111 - accuracy: 0.8787 - val_loss: 0.5313 - val_accuracy: 0.7917\n",
      "Epoch 94/100\n",
      "17/17 [==============================] - 2s 107ms/step - loss: 0.4073 - accuracy: 0.8796 - val_loss: 0.5307 - val_accuracy: 0.7917\n",
      "Epoch 95/100\n",
      "17/17 [==============================] - 2s 112ms/step - loss: 0.4036 - accuracy: 0.8806 - val_loss: 0.5277 - val_accuracy: 0.7917\n",
      "Epoch 96/100\n",
      "17/17 [==============================] - 2s 107ms/step - loss: 0.4002 - accuracy: 0.8815 - val_loss: 0.5267 - val_accuracy: 0.7917\n",
      "Epoch 97/100\n",
      "17/17 [==============================] - 2s 111ms/step - loss: 0.3967 - accuracy: 0.8824 - val_loss: 0.5234 - val_accuracy: 0.7917\n",
      "Epoch 98/100\n",
      "17/17 [==============================] - 2s 111ms/step - loss: 0.3935 - accuracy: 0.8833 - val_loss: 0.5224 - val_accuracy: 0.7917\n",
      "Epoch 99/100\n",
      "17/17 [==============================] - 2s 112ms/step - loss: 0.3905 - accuracy: 0.8815 - val_loss: 0.5207 - val_accuracy: 0.7917\n",
      "Epoch 100/100\n",
      "17/17 [==============================] - 2s 112ms/step - loss: 0.3871 - accuracy: 0.8824 - val_loss: 0.5192 - val_accuracy: 0.7917\n"
     ]
    }
   ],
   "source": [
    "train_dataset = tf.data.Dataset.from_tensor_slices((X_train, Y_train)).batch(64)\n",
    "test_dataset = tf.data.Dataset.from_tensor_slices((X_test, Y_test)).batch(64)\n",
    "history = conv_model.fit(train_dataset, epochs=100, validation_data=test_dataset)"
   ]
  },
  {
   "cell_type": "markdown",
   "metadata": {},
   "source": [
    "<a name='5'></a>\n",
    "## 5 - History Object \n",
    "\n",
    "The history object is an output of the `.fit()` operation, and provides a record of all the loss and metric values in memory. It's stored as a dictionary that you can retrieve at `history.history`: "
   ]
  },
  {
   "cell_type": "code",
   "execution_count": 22,
   "metadata": {},
   "outputs": [
    {
     "data": {
      "text/plain": [
       "{'loss': [1.7916465997695923,\n",
       "  1.780474066734314,\n",
       "  1.7735463380813599,\n",
       "  1.7657524347305298,\n",
       "  1.7566912174224854,\n",
       "  1.7455865144729614,\n",
       "  1.7319300174713135,\n",
       "  1.713607668876648,\n",
       "  1.6925480365753174,\n",
       "  1.6660624742507935,\n",
       "  1.6351189613342285,\n",
       "  1.5988506078720093,\n",
       "  1.5567091703414917,\n",
       "  1.5078773498535156,\n",
       "  1.457730770111084,\n",
       "  1.4064650535583496,\n",
       "  1.3568531274795532,\n",
       "  1.3087859153747559,\n",
       "  1.26279878616333,\n",
       "  1.2208622694015503,\n",
       "  1.1816126108169556,\n",
       "  1.144474744796753,\n",
       "  1.1101750135421753,\n",
       "  1.0788294076919556,\n",
       "  1.050607442855835,\n",
       "  1.0223388671875,\n",
       "  0.9974192380905151,\n",
       "  0.974711000919342,\n",
       "  0.9536318182945251,\n",
       "  0.9346386194229126,\n",
       "  0.915199339389801,\n",
       "  0.8981835842132568,\n",
       "  0.8812921047210693,\n",
       "  0.8653705716133118,\n",
       "  0.8492415547370911,\n",
       "  0.8355472087860107,\n",
       "  0.8211401104927063,\n",
       "  0.8079192638397217,\n",
       "  0.7949627637863159,\n",
       "  0.7820610404014587,\n",
       "  0.7699765563011169,\n",
       "  0.7579161524772644,\n",
       "  0.7475725412368774,\n",
       "  0.7361794114112854,\n",
       "  0.7251666188240051,\n",
       "  0.7156519293785095,\n",
       "  0.7052148580551147,\n",
       "  0.6952906250953674,\n",
       "  0.6861143112182617,\n",
       "  0.6764457821846008,\n",
       "  0.6676619648933411,\n",
       "  0.6589590311050415,\n",
       "  0.6502543687820435,\n",
       "  0.6420013308525085,\n",
       "  0.6335598230361938,\n",
       "  0.6256301999092102,\n",
       "  0.6177736520767212,\n",
       "  0.609646201133728,\n",
       "  0.6019368767738342,\n",
       "  0.5942856669425964,\n",
       "  0.5869854688644409,\n",
       "  0.5799372792243958,\n",
       "  0.5726416110992432,\n",
       "  0.5659534335136414,\n",
       "  0.5590132474899292,\n",
       "  0.5528505444526672,\n",
       "  0.5462600588798523,\n",
       "  0.5397152304649353,\n",
       "  0.5338270664215088,\n",
       "  0.5272122025489807,\n",
       "  0.5218839049339294,\n",
       "  0.515624463558197,\n",
       "  0.5093945264816284,\n",
       "  0.5030278563499451,\n",
       "  0.49912893772125244,\n",
       "  0.4923686981201172,\n",
       "  0.48672208189964294,\n",
       "  0.48262497782707214,\n",
       "  0.4757801294326782,\n",
       "  0.4704325497150421,\n",
       "  0.4652217924594879,\n",
       "  0.45941412448883057,\n",
       "  0.45454877614974976,\n",
       "  0.4497072100639343,\n",
       "  0.4465119540691376,\n",
       "  0.43940287828445435,\n",
       "  0.43615520000457764,\n",
       "  0.43136724829673767,\n",
       "  0.42661044001579285,\n",
       "  0.4227431118488312,\n",
       "  0.41902950406074524,\n",
       "  0.41498833894729614,\n",
       "  0.41107630729675293,\n",
       "  0.40730971097946167,\n",
       "  0.40358591079711914,\n",
       "  0.4001627564430237,\n",
       "  0.3967144191265106,\n",
       "  0.39349156618118286,\n",
       "  0.3904830813407898,\n",
       "  0.38713568449020386],\n",
       " 'accuracy': [0.17870371043682098,\n",
       "  0.24074074625968933,\n",
       "  0.24537037312984467,\n",
       "  0.2750000059604645,\n",
       "  0.32870370149612427,\n",
       "  0.3481481373310089,\n",
       "  0.364814817905426,\n",
       "  0.3888888955116272,\n",
       "  0.4009259343147278,\n",
       "  0.42314815521240234,\n",
       "  0.44999998807907104,\n",
       "  0.46481481194496155,\n",
       "  0.4888888895511627,\n",
       "  0.510185182094574,\n",
       "  0.5185185074806213,\n",
       "  0.5351851582527161,\n",
       "  0.5444444417953491,\n",
       "  0.5583333373069763,\n",
       "  0.5768518447875977,\n",
       "  0.5870370268821716,\n",
       "  0.595370352268219,\n",
       "  0.604629635810852,\n",
       "  0.6175925731658936,\n",
       "  0.6268518567085266,\n",
       "  0.6361111402511597,\n",
       "  0.6407407522201538,\n",
       "  0.6490740776062012,\n",
       "  0.6574074029922485,\n",
       "  0.6601851582527161,\n",
       "  0.6703703999519348,\n",
       "  0.6796296238899231,\n",
       "  0.6953703761100769,\n",
       "  0.6972222328186035,\n",
       "  0.7046296000480652,\n",
       "  0.7138888835906982,\n",
       "  0.7212963104248047,\n",
       "  0.7287036776542664,\n",
       "  0.7333333492279053,\n",
       "  0.7416666746139526,\n",
       "  0.7481481432914734,\n",
       "  0.7462962865829468,\n",
       "  0.7537037134170532,\n",
       "  0.7583333253860474,\n",
       "  0.760185182094574,\n",
       "  0.7666666507720947,\n",
       "  0.769444465637207,\n",
       "  0.7749999761581421,\n",
       "  0.7814815044403076,\n",
       "  0.7861111164093018,\n",
       "  0.7907407283782959,\n",
       "  0.7953703999519348,\n",
       "  0.7981481552124023,\n",
       "  0.8018518686294556,\n",
       "  0.8046296238899231,\n",
       "  0.8055555820465088,\n",
       "  0.8064814805984497,\n",
       "  0.8148148059844971,\n",
       "  0.8157407641410828,\n",
       "  0.8157407641410828,\n",
       "  0.8157407641410828,\n",
       "  0.8203703761100769,\n",
       "  0.8194444179534912,\n",
       "  0.8240740895271301,\n",
       "  0.8240740895271301,\n",
       "  0.8268518447875977,\n",
       "  0.8314814567565918,\n",
       "  0.8342592716217041,\n",
       "  0.8342592716217041,\n",
       "  0.8425925970077515,\n",
       "  0.8462963104248047,\n",
       "  0.845370352268219,\n",
       "  0.8462963104248047,\n",
       "  0.854629635810852,\n",
       "  0.8592592477798462,\n",
       "  0.8481481671333313,\n",
       "  0.8564814925193787,\n",
       "  0.8638888597488403,\n",
       "  0.855555534362793,\n",
       "  0.8620370626449585,\n",
       "  0.8611111044883728,\n",
       "  0.864814817905426,\n",
       "  0.864814817905426,\n",
       "  0.864814817905426,\n",
       "  0.8657407164573669,\n",
       "  0.8629629611968994,\n",
       "  0.8685185313224792,\n",
       "  0.8666666746139526,\n",
       "  0.8712962865829468,\n",
       "  0.8740741014480591,\n",
       "  0.8740741014480591,\n",
       "  0.8777777552604675,\n",
       "  0.8805555701255798,\n",
       "  0.8787037134170532,\n",
       "  0.8796296119689941,\n",
       "  0.8805555701255798,\n",
       "  0.8814814686775208,\n",
       "  0.8824074268341064,\n",
       "  0.8833333253860474,\n",
       "  0.8814814686775208,\n",
       "  0.8824074268341064],\n",
       " 'val_loss': [1.7824459075927734,\n",
       "  1.7760905027389526,\n",
       "  1.7687437534332275,\n",
       "  1.7601969242095947,\n",
       "  1.750402808189392,\n",
       "  1.7379237413406372,\n",
       "  1.7213056087493896,\n",
       "  1.7008296251296997,\n",
       "  1.6768485307693481,\n",
       "  1.6462810039520264,\n",
       "  1.610533595085144,\n",
       "  1.5692481994628906,\n",
       "  1.5197499990463257,\n",
       "  1.4645029306411743,\n",
       "  1.4104198217391968,\n",
       "  1.3582613468170166,\n",
       "  1.3073670864105225,\n",
       "  1.2595219612121582,\n",
       "  1.2151107788085938,\n",
       "  1.174640417098999,\n",
       "  1.1391117572784424,\n",
       "  1.1053184270858765,\n",
       "  1.0755773782730103,\n",
       "  1.0482616424560547,\n",
       "  1.021751880645752,\n",
       "  1.0019745826721191,\n",
       "  0.9799416065216064,\n",
       "  0.9619244337081909,\n",
       "  0.9424311518669128,\n",
       "  0.924877405166626,\n",
       "  0.9092093706130981,\n",
       "  0.8945944905281067,\n",
       "  0.8789101243019104,\n",
       "  0.8639847040176392,\n",
       "  0.8525943756103516,\n",
       "  0.8380100131034851,\n",
       "  0.827298104763031,\n",
       "  0.8145326972007751,\n",
       "  0.8047820925712585,\n",
       "  0.7926375865936279,\n",
       "  0.7809303402900696,\n",
       "  0.7733137607574463,\n",
       "  0.7632325291633606,\n",
       "  0.7534584403038025,\n",
       "  0.7467923760414124,\n",
       "  0.7368653416633606,\n",
       "  0.7293288111686707,\n",
       "  0.7218602299690247,\n",
       "  0.7135007381439209,\n",
       "  0.707851231098175,\n",
       "  0.700229287147522,\n",
       "  0.6926934719085693,\n",
       "  0.6867955923080444,\n",
       "  0.6787120699882507,\n",
       "  0.6726142764091492,\n",
       "  0.6663135290145874,\n",
       "  0.6585457921028137,\n",
       "  0.6525870561599731,\n",
       "  0.6456170678138733,\n",
       "  0.6404304504394531,\n",
       "  0.6339786648750305,\n",
       "  0.6262489557266235,\n",
       "  0.6215913891792297,\n",
       "  0.6159079074859619,\n",
       "  0.6104729771614075,\n",
       "  0.605125367641449,\n",
       "  0.5997266173362732,\n",
       "  0.5957567691802979,\n",
       "  0.590736448764801,\n",
       "  0.5867894291877747,\n",
       "  0.5847234129905701,\n",
       "  0.5780203938484192,\n",
       "  0.576499342918396,\n",
       "  0.5722199082374573,\n",
       "  0.5723201632499695,\n",
       "  0.565714418888092,\n",
       "  0.5643842220306396,\n",
       "  0.5652320981025696,\n",
       "  0.5594359040260315,\n",
       "  0.5549372434616089,\n",
       "  0.5557438135147095,\n",
       "  0.5529042482376099,\n",
       "  0.5516204833984375,\n",
       "  0.5462188720703125,\n",
       "  0.5501030087471008,\n",
       "  0.5433042645454407,\n",
       "  0.542011559009552,\n",
       "  0.5426994562149048,\n",
       "  0.5374044179916382,\n",
       "  0.5377749800682068,\n",
       "  0.535399854183197,\n",
       "  0.5337595343589783,\n",
       "  0.5312820672988892,\n",
       "  0.5306989550590515,\n",
       "  0.5276550650596619,\n",
       "  0.5267385840415955,\n",
       "  0.5233875513076782,\n",
       "  0.5224301218986511,\n",
       "  0.520738959312439,\n",
       "  0.5191653370857239],\n",
       " 'val_accuracy': [0.20000000298023224,\n",
       "  0.28333333134651184,\n",
       "  0.3083333373069763,\n",
       "  0.38333332538604736,\n",
       "  0.375,\n",
       "  0.4166666567325592,\n",
       "  0.42500001192092896,\n",
       "  0.44999998807907104,\n",
       "  0.4833333194255829,\n",
       "  0.49166667461395264,\n",
       "  0.5333333611488342,\n",
       "  0.5333333611488342,\n",
       "  0.5416666865348816,\n",
       "  0.574999988079071,\n",
       "  0.574999988079071,\n",
       "  0.5916666388511658,\n",
       "  0.6000000238418579,\n",
       "  0.6166666746139526,\n",
       "  0.5833333134651184,\n",
       "  0.5833333134651184,\n",
       "  0.6000000238418579,\n",
       "  0.6416666507720947,\n",
       "  0.6416666507720947,\n",
       "  0.6583333611488342,\n",
       "  0.675000011920929,\n",
       "  0.6833333373069763,\n",
       "  0.6916666626930237,\n",
       "  0.675000011920929,\n",
       "  0.6916666626930237,\n",
       "  0.6583333611488342,\n",
       "  0.6833333373069763,\n",
       "  0.6916666626930237,\n",
       "  0.6916666626930237,\n",
       "  0.699999988079071,\n",
       "  0.6916666626930237,\n",
       "  0.6916666626930237,\n",
       "  0.699999988079071,\n",
       "  0.7083333134651184,\n",
       "  0.7166666388511658,\n",
       "  0.7166666388511658,\n",
       "  0.7166666388511658,\n",
       "  0.7166666388511658,\n",
       "  0.7166666388511658,\n",
       "  0.7250000238418579,\n",
       "  0.7166666388511658,\n",
       "  0.7166666388511658,\n",
       "  0.7166666388511658,\n",
       "  0.7250000238418579,\n",
       "  0.7250000238418579,\n",
       "  0.7416666746139526,\n",
       "  0.75,\n",
       "  0.75,\n",
       "  0.7416666746139526,\n",
       "  0.7416666746139526,\n",
       "  0.75,\n",
       "  0.7583333253860474,\n",
       "  0.75,\n",
       "  0.75,\n",
       "  0.75,\n",
       "  0.75,\n",
       "  0.7583333253860474,\n",
       "  0.7583333253860474,\n",
       "  0.7583333253860474,\n",
       "  0.7583333253860474,\n",
       "  0.7666666507720947,\n",
       "  0.7666666507720947,\n",
       "  0.7666666507720947,\n",
       "  0.7666666507720947,\n",
       "  0.7583333253860474,\n",
       "  0.7749999761581421,\n",
       "  0.7749999761581421,\n",
       "  0.7916666865348816,\n",
       "  0.7749999761581421,\n",
       "  0.7916666865348816,\n",
       "  0.7749999761581421,\n",
       "  0.7916666865348816,\n",
       "  0.7916666865348816,\n",
       "  0.7833333611488342,\n",
       "  0.7916666865348816,\n",
       "  0.800000011920929,\n",
       "  0.7833333611488342,\n",
       "  0.7916666865348816,\n",
       "  0.7916666865348816,\n",
       "  0.800000011920929,\n",
       "  0.7916666865348816,\n",
       "  0.7916666865348816,\n",
       "  0.7833333611488342,\n",
       "  0.7833333611488342,\n",
       "  0.7833333611488342,\n",
       "  0.7833333611488342,\n",
       "  0.7833333611488342,\n",
       "  0.7916666865348816,\n",
       "  0.7916666865348816,\n",
       "  0.7916666865348816,\n",
       "  0.7916666865348816,\n",
       "  0.7916666865348816,\n",
       "  0.7916666865348816,\n",
       "  0.7916666865348816,\n",
       "  0.7916666865348816,\n",
       "  0.7916666865348816]}"
      ]
     },
     "execution_count": 22,
     "metadata": {},
     "output_type": "execute_result"
    }
   ],
   "source": [
    "history.history"
   ]
  },
  {
   "cell_type": "markdown",
   "metadata": {},
   "source": [
    "Now visualize the loss over time using `history.history`: "
   ]
  },
  {
   "cell_type": "code",
   "execution_count": 23,
   "metadata": {},
   "outputs": [
    {
     "data": {
      "text/plain": [
       "[Text(0, 0.5, 'Accuracy'), Text(0.5, 0, 'Epoch')]"
      ]
     },
     "execution_count": 23,
     "metadata": {},
     "output_type": "execute_result"
    },
    {
     "data": {
      "image/png": "[encoded data removed]",
      "text/plain": [
       "<Figure size 864x576 with 1 Axes>"
      ]
     },
     "metadata": {
      "needs_background": "light"
     },
     "output_type": "display_data"
    },
    {
     "data": {
      "image/png": "[encoded data removed]",
      "text/plain": [
       "<Figure size 864x576 with 1 Axes>"
      ]
     },
     "metadata": {
      "needs_background": "light"
     },
     "output_type": "display_data"
    }
   ],
   "source": [
    "# The history.history[\"loss\"] entry is a dictionary with as many values as epochs that the\n",
    "# model was trained on. \n",
    "df_loss_acc = pd.DataFrame(history.history)\n",
    "df_loss= df_loss_acc[['loss','val_loss']]\n",
    "df_loss.rename(columns={'loss':'train','val_loss':'validation'},inplace=True)\n",
    "df_acc= df_loss_acc[['accuracy','val_accuracy']]\n",
    "df_acc.rename(columns={'accuracy':'train','val_accuracy':'validation'},inplace=True)\n",
    "df_loss.plot(title='Model loss',figsize=(12,8)).set(xlabel='Epoch',ylabel='Loss')\n",
    "df_acc.plot(title='Model Accuracy',figsize=(12,8)).set(xlabel='Epoch',ylabel='Accuracy')"
   ]
  },
  {
   "cell_type": "markdown",
   "metadata": {},
   "source": [
    "**Congratulations**! You've finished the assignment and built two models: One that recognizes  smiles, and another that recognizes SIGN language with almost 80% accuracy on the test set. In addition to that, you now also understand the applications of two Keras APIs: Sequential and Functional. Nicely done! \n",
    "\n",
    "By now, you know a bit about how the Functional API works and may have glimpsed the possibilities. In your next assignment, you'll really get a feel for its power when you get the opportunity to build a very deep ConvNet, using ResNets! "
   ]
  },
  {
   "cell_type": "markdown",
   "metadata": {},
   "source": [
    "<a name='6'></a>\n",
    "## 6 - Bibliography\n",
    "\n",
    "You're always encouraged to read the official documentation. To that end, you can find the docs for the Sequential and Functional APIs here: \n",
    "\n",
    "https://www.tensorflow.org/guide/keras/sequential_model\n",
    "\n",
    "https://www.tensorflow.org/guide/keras/functional"
   ]
  }
 ],
 "metadata": {
  "coursera": {
   "course_slug": "convolutional-neural-networks",
   "graded_item_id": "bwbJV",
   "launcher_item_id": "0TkXB"
  },
  "kernelspec": {
   "display_name": "Python 3",
   "language": "python",
   "name": "python3"
  },
  "language_info": {
   "codemirror_mode": {
    "name": "ipython",
    "version": 3
   },
   "file_extension": ".py",
   "mimetype": "text/x-python",
   "name": "python",
   "nbconvert_exporter": "python",
   "pygments_lexer": "ipython3",
   "version": "3.7.6"
  }
 },
 "nbformat": 4,
 "nbformat_minor": 2
}
